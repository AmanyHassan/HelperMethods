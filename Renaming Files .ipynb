{
 "cells": [
  {
   "cell_type": "code",
   "execution_count": 84,
   "metadata": {},
   "outputs": [],
   "source": [
    "\n",
    "import os \n",
    "import glob\n",
    "\n",
    "def Rename_Files (dirctorySource,extentions,prefix):\n",
    "        os.chdir(dirctorySource)\n",
    "        i=1\n",
    "        n=len(str (len(os.listdir(os.getcwd()))))\n",
    "        #loop on files on teh current work directory\n",
    "        Files=os.listdir(os.getcwd())\n",
    "        for F in Files:\n",
    "            #get The extention Of Files here :)\n",
    "            exten =os.path.splitext(F)[1]\n",
    "            #print(exten)\n",
    "            #print( extentions)\n",
    "            #print(exten in extentions)\n",
    "            if  exten in extentions:\n",
    "                #print(os.path.splitext(F))\n",
    "                dst=prefix+str(i).zfill(n)+exten\n",
    "                #print (dst)\n",
    "                os.rename(F ,dst)\n",
    "                i+=1\n",
    "        return  True\n",
    "    \n"
   ]
  },
  {
   "cell_type": "code",
   "execution_count": 83,
   "metadata": {},
   "outputs": [
    {
     "data": {
      "text/plain": [
       "True"
      ]
     },
     "execution_count": 83,
     "metadata": {},
     "output_type": "execute_result"
    }
   ],
   "source": [
    "    Rename_Files('E:\\\\Desktop\\\\Images',['.jpg'],'amany') "
   ]
  },
  {
   "cell_type": "code",
   "execution_count": null,
   "metadata": {},
   "outputs": [],
   "source": []
  }
 ],
 "metadata": {
  "kernelspec": {
   "display_name": "Python 3",
   "language": "python",
   "name": "python3"
  },
  "language_info": {
   "codemirror_mode": {
    "name": "ipython",
    "version": 3
   },
   "file_extension": ".py",
   "mimetype": "text/x-python",
   "name": "python",
   "nbconvert_exporter": "python",
   "pygments_lexer": "ipython3",
   "version": "3.7.4"
  }
 },
 "nbformat": 4,
 "nbformat_minor": 2
}
